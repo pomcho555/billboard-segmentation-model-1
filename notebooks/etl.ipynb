{
 "cells": [
  {
   "cell_type": "markdown",
   "id": "correct-gross",
   "metadata": {},
   "source": [
    "## ETL Preprocessing\n",
    "\n",
    "This script devide all files into below.\n",
    "- train\n",
    "- valid\n",
    "- test"
   ]
  },
  {
   "cell_type": "code",
   "execution_count": 1,
   "id": "capital-mouse",
   "metadata": {},
   "outputs": [],
   "source": [
    "import pickle\n",
    "import glob\n",
    "import os\n",
    "import shutil\n",
    "from tools.mask_generator import generate_mask_image\n",
    "from sklearn.model_selection import train_test_split\n",
    "from natsort import natsorted"
   ]
  },
  {
   "cell_type": "markdown",
   "id": "sacred-effectiveness",
   "metadata": {},
   "source": [
    "### Load All files"
   ]
  },
  {
   "cell_type": "code",
   "execution_count": 47,
   "id": "black-selection",
   "metadata": {},
   "outputs": [],
   "source": [
    "data_path = \"../data/GoPro/\"\n",
    "original_dir = \"../data/original_imgs\"\n",
    "masked_img_dir = \"../data/masked_imgs\""
   ]
  },
  {
   "cell_type": "code",
   "execution_count": 63,
   "id": "generic-roman",
   "metadata": {},
   "outputs": [],
   "source": [
    "json_file_names = glob.glob(data_path + \"**/!(meta.json)*.json\", recursive=True)\n",
    "img_files_names = glob.glob(data_path + \"**/*.jpg\", recursive=True)"
   ]
  },
  {
   "cell_type": "code",
   "execution_count": 64,
   "id": "bulgarian-yesterday",
   "metadata": {},
   "outputs": [],
   "source": [
    "os.makedirs(original_dir, exist_ok = True)\n",
    "os.makedirs(masked_img_dir, exist_ok=True)"
   ]
  },
  {
   "cell_type": "code",
   "execution_count": 65,
   "id": "superb-arrest",
   "metadata": {},
   "outputs": [],
   "source": [
    "# save original images into original_img directory\n",
    "for img_file in img_files_names:\n",
    "    shutil.copy(img_file, original_dir)\n",
    "    \n",
    "# store masked data into masked_imgs\n",
    "for mask_json in json_file_names:\n",
    "    try:\n",
    "        # generate masked images\n",
    "        generate_mask_image(mask_json, masked_img_dir) \n",
    "    except Exception as e:\n",
    "        print(mask_json)"
   ]
  },
  {
   "cell_type": "markdown",
   "id": "structural-brooklyn",
   "metadata": {},
   "source": [
    "## Create data direcotries for training"
   ]
  },
  {
   "cell_type": "code",
   "execution_count": 2,
   "id": "different-clearance",
   "metadata": {},
   "outputs": [],
   "source": [
    "# 環境変数\n",
    "IMG_PATH = '../data/*original_imgs/*'\n",
    "MASKED_IMG_PATH = '../data/*masked_imgs/*'"
   ]
  },
  {
   "cell_type": "code",
   "execution_count": 3,
   "id": "thorough-theory",
   "metadata": {},
   "outputs": [],
   "source": [
    "img_list = glob.glob(IMG_PATH)\n",
    "anno_img_list = glob.glob(MASKED_IMG_PATH)\n",
    "sorted_img_list = natsorted(img_list)\n",
    "sorted_anno_list = natsorted(anno_img_list)"
   ]
  },
  {
   "cell_type": "code",
   "execution_count": 5,
   "id": "limited-baseball",
   "metadata": {},
   "outputs": [],
   "source": [
    "##### Prepare data \n",
    "train_img_list, test_img_list, train_anno_list, test_anno_list = train_test_split(sorted_img_list, sorted_anno_list, test_size=0.2, random_state=1)\n",
    "# split train into validation\n",
    "train_img_list, val_img_list, train_anno_list, val_anno_list = train_test_split(train_img_list, train_anno_list, test_size=0.15, random_state=1) # 0.15 x 0.8 = 0.12"
   ]
  },
  {
   "cell_type": "code",
   "execution_count": 7,
   "id": "existing-personal",
   "metadata": {},
   "outputs": [],
   "source": [
    "def create_dir(img_list, anno_list, target_dir, data_dir=\"../data\"):\n",
    "    # create img dir and store data\n",
    "    for img_file in img_list:\n",
    "        os.makedirs(data_dir+target_dir+\"/img\", exist_ok = True)\n",
    "        shutil.copy(img_file, data_dir+target_dir+\"/img/\")\n",
    "    # create annotation dir and store data\n",
    "    for img_file in anno_list:\n",
    "        os.makedirs(data_dir+target_dir+\"/anno\", exist_ok = True)\n",
    "        shutil.copy(img_file, data_dir+target_dir+\"/anno/\")"
   ]
  },
  {
   "cell_type": "code",
   "execution_count": 8,
   "id": "experienced-islam",
   "metadata": {},
   "outputs": [],
   "source": [
    "create_dir(train_img_list, train_anno_list, \"/train\")\n",
    "create_dir(test_img_list, test_anno_list, \"/test\")\n",
    "create_dir(val_img_list, val_anno_list, \"/valid\")"
   ]
  },
  {
   "cell_type": "code",
   "execution_count": null,
   "id": "stone-globe",
   "metadata": {},
   "outputs": [],
   "source": []
  }
 ],
 "metadata": {
  "kernelspec": {
   "display_name": "Python 3 (ipykernel)",
   "language": "python",
   "name": "python3"
  },
  "language_info": {
   "codemirror_mode": {
    "name": "ipython",
    "version": 3
   },
   "file_extension": ".py",
   "mimetype": "text/x-python",
   "name": "python",
   "nbconvert_exporter": "python",
   "pygments_lexer": "ipython3",
   "version": "3.8.7"
  },
  "nteract": {
   "version": "nteract-on-jupyter@2.1.3"
  }
 },
 "nbformat": 4,
 "nbformat_minor": 5
}
