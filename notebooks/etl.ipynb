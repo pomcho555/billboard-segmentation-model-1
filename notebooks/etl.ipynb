{
 "cells": [
  {
   "cell_type": "markdown",
   "id": "proprietary-cooler",
   "metadata": {},
   "source": [
    "## ETL Preprocessing\n",
    "\n",
    "このスクリプトではONEDRIVEからダウンロードしたデータをマスク画像生成と共に機械学習用の以下のディレクトリ構成に振り分ける\n",
    "- train\n",
    "- valid\n",
    "- test"
   ]
  },
  {
   "cell_type": "code",
   "execution_count": 60,
   "id": "blank-value",
   "metadata": {},
   "outputs": [],
   "source": [
    "import pickle\n",
    "import glob\n",
    "import shutil\n",
    "from tools.mask_generator import generate_mask_image"
   ]
  },
  {
   "cell_type": "markdown",
   "id": "impaired-utilization",
   "metadata": {},
   "source": [
    "# Load All files"
   ]
  },
  {
   "cell_type": "code",
   "execution_count": 47,
   "id": "approximate-pontiac",
   "metadata": {},
   "outputs": [],
   "source": [
    "data_path = \"../data/GoPro/\"\n",
    "original_dir = \"../data/original_imgs\"\n",
    "masked_img_dir = \"../data/masked_imgs\""
   ]
  },
  {
   "cell_type": "code",
   "execution_count": 63,
   "id": "future-footwear",
   "metadata": {},
   "outputs": [],
   "source": [
    "json_file_names = glob.glob(data_path + \"**/!(meta.json)*.json\", recursive=True)\n",
    "img_files_names = glob.glob(data_path + \"**/*.jpg\", recursive=True)"
   ]
  },
  {
   "cell_type": "code",
   "execution_count": 64,
   "id": "composite-affiliate",
   "metadata": {},
   "outputs": [],
   "source": [
    "os.makedirs(original_dir, exist_ok = True)\n",
    "os.makedirs(masked_img_dir, exist_ok=True)"
   ]
  },
  {
   "cell_type": "code",
   "execution_count": 65,
   "id": "existing-evening",
   "metadata": {},
   "outputs": [],
   "source": [
    "# save original images into original_img directory\n",
    "for img_file in img_files_names:\n",
    "    shutil.copy(img_file, original_dir)\n",
    "    \n",
    "# store masked data into masked_imgs\n",
    "for mask_json in json_file_names:\n",
    "    try:\n",
    "        # generate masked images\n",
    "        generate_mask_image(mask_json, masked_img_dir) \n",
    "    except Exception as e:\n",
    "        print(mask_json)"
   ]
  },
  {
   "cell_type": "code",
   "execution_count": null,
   "id": "dependent-ensemble",
   "metadata": {},
   "outputs": [],
   "source": []
  }
 ],
 "metadata": {
  "kernelspec": {
   "display_name": "Python 3",
   "language": "python",
   "name": "python3"
  },
  "language_info": {
   "codemirror_mode": {
    "name": "ipython",
    "version": 3
   },
   "file_extension": ".py",
   "mimetype": "text/x-python",
   "name": "python",
   "nbconvert_exporter": "python",
   "pygments_lexer": "ipython3",
   "version": "3.8.5"
  }
 },
 "nbformat": 4,
 "nbformat_minor": 5
}
