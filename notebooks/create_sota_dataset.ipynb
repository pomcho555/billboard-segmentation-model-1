{
 "cells": [
  {
   "cell_type": "code",
   "execution_count": 1,
   "id": "textile-russian",
   "metadata": {},
   "outputs": [],
   "source": [
    "import os\n",
    "import cv2\n",
    "import glob\n",
    "from natsort import natsorted\n",
    "import matplotlib.pyplot as plt"
   ]
  },
  {
   "cell_type": "code",
   "execution_count": 2,
   "id": "ultimate-bangladesh",
   "metadata": {},
   "outputs": [],
   "source": [
    "DATA_DIR = \"../data\"\n",
    "EXPORT_DATA_DIR = \"../data/resized_data\""
   ]
  },
  {
   "cell_type": "code",
   "execution_count": 3,
   "id": "twenty-dividend",
   "metadata": {},
   "outputs": [],
   "source": [
    "train_img_list = natsorted(glob.glob(DATA_DIR+\"/train/img/*\"))\n",
    "train_anno_list = natsorted(glob.glob(DATA_DIR+\"/train/anno/*\"))\n",
    "\n",
    "test_img_list = natsorted(glob.glob(DATA_DIR+\"/test/img/*\"))\n",
    "test_anno_list = natsorted(glob.glob(DATA_DIR+\"/test/anno/*\"))\n",
    "\n",
    "valid_img_list = natsorted(glob.glob(DATA_DIR+\"/valid/img/*\"))\n",
    "valid_anno_list = natsorted(glob.glob(DATA_DIR+\"/valid/anno/*\"))"
   ]
  },
  {
   "cell_type": "code",
   "execution_count": 4,
   "id": "upset-honolulu",
   "metadata": {},
   "outputs": [
    {
     "data": {
      "text/plain": [
       "3736"
      ]
     },
     "execution_count": 4,
     "metadata": {},
     "output_type": "execute_result"
    }
   ],
   "source": [
    "len(train_img_list)"
   ]
  },
  {
   "cell_type": "code",
   "execution_count": 5,
   "id": "included-drill",
   "metadata": {},
   "outputs": [],
   "source": [
    "for mode in [\"train\", \"valid\", \"test\"]:\n",
    "    target_img_list = eval(mode+\"_img_list\")\n",
    "    for img_file in target_img_list:\n",
    "        img = cv2.imread(img_file)\n",
    "        # Resize an image\n",
    "        img2 = cv2.resize(img, dsize=(1920,1080))\n",
    "        os.makedirs(EXPORT_DATA_DIR+\"/\"+mode+\"/img\", exist_ok = True)\n",
    "        cv2.imwrite(EXPORT_DATA_DIR+\"/\"+mode+\"/img/\"+img_file.split(\"/\")[-1], img2)\n",
    "        \n",
    "    target_anno_list = eval(mode+\"_anno_list\")\n",
    "    for img_file in target_anno_list:\n",
    "        img = cv2.imread(img_file)\n",
    "        # Resize an image\n",
    "        img2 = cv2.resize(img, dsize=(1920,1080))\n",
    "\n",
    "        os.makedirs(EXPORT_DATA_DIR+\"/\"+mode+\"/anno\", exist_ok = True)\n",
    "        cv2.imwrite(EXPORT_DATA_DIR+\"/\"+mode+\"/anno/\"+img_file.split(\"/\")[-1], img2)\n",
    "\n",
    "    # # visualize\n",
    "    # plt.imshow(cv2.cvtColor(img2, cv2.COLOR_BGR2RGB))\n",
    "    # plt.show()"
   ]
  },
  {
   "cell_type": "code",
   "execution_count": 1,
   "id": "spectacular-spyware",
   "metadata": {},
   "outputs": [],
   "source": [
    "# cityscape 2048,1024"
   ]
  },
  {
   "cell_type": "code",
   "execution_count": null,
   "id": "infrared-poetry",
   "metadata": {},
   "outputs": [],
   "source": []
  }
 ],
 "metadata": {
  "kernelspec": {
   "display_name": "Python 3 (ipykernel)",
   "language": "python",
   "name": "python3"
  },
  "language_info": {
   "codemirror_mode": {
    "name": "ipython",
    "version": 3
   },
   "file_extension": ".py",
   "mimetype": "text/x-python",
   "name": "python",
   "nbconvert_exporter": "python",
   "pygments_lexer": "ipython3",
   "version": "3.8.7"
  }
 },
 "nbformat": 4,
 "nbformat_minor": 5
}
